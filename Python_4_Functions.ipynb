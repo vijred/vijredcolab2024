{
 "cells": [
  {
   "cell_type": "markdown",
   "id": "36340b6a-d9e7-48b0-88e1-081d51d6fa14",
   "metadata": {},
   "source": [
    "### An Overview of Python functions"
   ]
  },
  {
   "cell_type": "markdown",
   "id": "3db4229f-d775-42b2-bc8d-a2316741cf60",
   "metadata": {},
   "source": [
    "Functions allow the execution of external (or internally defined) subroutines.  Many funcions are built-in to the base Python interpreter.  Installed libraries bring more available functions into the environment.   \n",
    "Functions are passed **arguments** (inputs) using parenthesis at the end of the function name. Functions often have many arguments, with most of them being optional.  If you see an argument you don't recognize, it is usually easy to look in the function documentation to find out what that argument's purpose is.   "
   ]
  },
  {
   "cell_type": "code",
   "execution_count": null,
   "id": "d7a2b159-5551-4f50-94fc-92b2c950b105",
   "metadata": {},
   "outputs": [],
   "source": [
    "x = -2\n",
    "abs(x)  ##abs() is the absolute value function.  Here, x is the input (it was assigned a value of -2 above) and 2 is the output."
   ]
  },
  {
   "cell_type": "code",
   "execution_count": null,
   "id": "19f7e3a0-ef1d-4d07-91dc-453bd7899b10",
   "metadata": {},
   "outputs": [],
   "source": [
    "import numpy as np\n",
    "\n",
    "grades = [99, 78, 80, 93, 77, 100, 100, 88, 93]\n",
    "np.mean(grades)  ## for the mean() function, which is part of the numpy library, it is called using the library np.mean()"
   ]
  },
  {
   "cell_type": "code",
   "execution_count": null,
   "id": "a013d5c0-b6f5-41d6-9044-94fafdc71cd0",
   "metadata": {},
   "outputs": [],
   "source": [
    "mean(grades)"
   ]
  },
  {
   "cell_type": "code",
   "execution_count": null,
   "id": "af5f41e2-d40c-4a80-a5cd-dc215eee1085",
   "metadata": {},
   "outputs": [],
   "source": [
    "import pandas as pd\n",
    "\n",
    "data_from_csv = pd.read_csv('Python_2_mlbPlayers.csv')\n",
    "data_from_csv.head()"
   ]
  },
  {
   "cell_type": "code",
   "execution_count": null,
   "id": "c1490f7b-fb09-4201-acad-b87b3f25a1c7",
   "metadata": {},
   "outputs": [],
   "source": [
    "np.unique(data_from_csv['Team'])"
   ]
  },
  {
   "cell_type": "markdown",
   "id": "5a0a1d71-dc25-45a3-bf4c-227a806432c2",
   "metadata": {},
   "source": [
    "Objects may have functions associated with them inherited from their class, sometimes called **methods**.   \n",
    "Methods can be called using dot notation."
   ]
  },
  {
   "cell_type": "code",
   "execution_count": null,
   "id": "4509616d-d3c2-4270-98c6-18377d5f9164",
   "metadata": {},
   "outputs": [],
   "source": [
    "np.unique(data_from_csv['Team']).tolist()  "
   ]
  },
  {
   "cell_type": "code",
   "execution_count": null,
   "id": "212c77a0-2a2e-4a32-957f-6765802b93b8",
   "metadata": {},
   "outputs": [],
   "source": [
    "string = \"hello world   \"\n",
    "print(string.strip().upper().replace(\" \", \"_\"))"
   ]
  },
  {
   "cell_type": "markdown",
   "id": "a24eeab9-407d-49ee-8924-6f1a0d79ccec",
   "metadata": {},
   "source": [
    "Python programs can create user-defined functions as well. "
   ]
  },
  {
   "cell_type": "code",
   "execution_count": null,
   "id": "40760845-bec0-42b5-86e4-bcac636fe9b3",
   "metadata": {},
   "outputs": [],
   "source": [
    "def mult_numbers(x,y):\n",
    "    result = x * y\n",
    "\n",
    "    return result\n"
   ]
  },
  {
   "cell_type": "code",
   "execution_count": null,
   "id": "816ff5f9-ce93-4086-be10-3063791df6b1",
   "metadata": {},
   "outputs": [],
   "source": [
    "z = mult_numbers(3,8)\n",
    "z"
   ]
  },
  {
   "cell_type": "markdown",
   "id": "b7deef94-ad72-4855-926c-a464ebfd3631",
   "metadata": {},
   "source": [
    "Here is an example of one we will be working with alot in GBA 478."
   ]
  },
  {
   "cell_type": "code",
   "execution_count": null,
   "id": "df4ecfdb-ff65-4729-bbb1-06e74eea1eef",
   "metadata": {},
   "outputs": [],
   "source": [
    "def get_output_from_messages(messages_input, model_input = \"gpt-3.5-turbo\", temperature_input = 0):\n",
    "    response = client.chat.completions.create(\n",
    "        model = model_input,\n",
    "        messages = messages_input,\n",
    "        temperature = temperature_input,\n",
    "    )\n",
    "\n",
    "    response = response.choices[0].message.content\n",
    "    return response "
   ]
  }
 ],
 "metadata": {
  "kernelspec": {
   "display_name": "Python 3 (ipykernel)",
   "language": "python",
   "name": "python3"
  },
  "language_info": {
   "codemirror_mode": {
    "name": "ipython",
    "version": 3
   },
   "file_extension": ".py",
   "mimetype": "text/x-python",
   "name": "python",
   "nbconvert_exporter": "python",
   "pygments_lexer": "ipython3",
   "version": "3.11.8"
  }
 },
 "nbformat": 4,
 "nbformat_minor": 5
}
