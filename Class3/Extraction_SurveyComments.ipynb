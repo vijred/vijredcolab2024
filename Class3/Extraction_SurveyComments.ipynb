{
 "cells": [
  {
   "cell_type": "markdown",
   "id": "b18b7925-05dc-4902-95ed-310c4730fac1",
   "metadata": {},
   "source": [
    "### Data Extraction from Conference Exit Survey Comments ###"
   ]
  },
  {
   "cell_type": "code",
   "execution_count": null,
   "id": "e6d406a9-ee1a-42ed-b903-acdd3b36b4c1",
   "metadata": {},
   "outputs": [],
   "source": [
    "import pandas as pd\n",
    "import json"
   ]
  },
  {
   "cell_type": "code",
   "execution_count": null,
   "id": "05425bab-bf7b-4197-aec2-b3c3df685a79",
   "metadata": {},
   "outputs": [],
   "source": [
    "import openai\n",
    "from dotenv import load_dotenv\n",
    "import os\n",
    "\n",
    "load_dotenv()\n",
    "os.environ[\"OPENAI_API_KEY\"] = os.getenv(\"openai_api_key\")\n",
    "\n",
    "client = openai.OpenAI()"
   ]
  },
  {
   "cell_type": "markdown",
   "id": "e4edfd5b-3964-44e2-9485-e3f0f274a809",
   "metadata": {},
   "source": [
    "We will retrieve the comments from a .csv file and store as a list."
   ]
  },
  {
   "cell_type": "code",
   "execution_count": null,
   "id": "fb44c2c2-f11a-422d-a518-90121b990932",
   "metadata": {},
   "outputs": [],
   "source": [
    "import random\n",
    "\n",
    "comments_df = pd.read_csv(\"Conference_Exit_Comments.csv\")\n",
    "comments = comments_df['Comment'].tolist()\n",
    "random.sample(comments, 1)"
   ]
  },
  {
   "cell_type": "markdown",
   "id": "b5d40718-ed54-4217-8880-75980aafc41d",
   "metadata": {},
   "source": [
    "Note the addition of response_format = {\"type\" : \"json_object\"} to the chat.completions.create() function call"
   ]
  },
  {
   "cell_type": "code",
   "execution_count": null,
   "id": "f38187af-4c76-4f77-9bc4-10954161f0f4",
   "metadata": {},
   "outputs": [],
   "source": [
    "def analyze_comment(comment):\n",
    "    prompt = f\"\"\" \n",
    "    {comment}\n",
    "    Analyse the comment above and return a JSON array as the result.\n",
    "    The comments are made by attendees of a marketing conference.\n",
    "    Extract the following information:\n",
    "\n",
    "    sentiment: Sentiment of the comment\n",
    "    \n",
    "    previous_attendee:  whether or not the comment writer has attended past Apogee conferences\n",
    "    Answer True if yes, False if no.  Answer Unknown if it is not possible to determine from the comment text.\n",
    "\n",
    "    VIP:  whether or not the comment writer had VIP access to any of the events\n",
    "    Answer True if yes, False if no.  Answer Unknown if it is not possible to determine from the comment text.\n",
    "\n",
    "    planning_to_return:  whether or not the comment writer is planning to return in future years\n",
    "    Answer True if yes, False if no.  Answer Unknown if it is not possible to determine from the comment text.\n",
    "\n",
    "    speakers: Extract any speakers that are mentioned by name and output them as a comma separated Python list.\n",
    "\n",
    "    Format the output as JSON with the following keys:\n",
    "    sentiment\n",
    "    previous_attendee\n",
    "    VIP\n",
    "    planning_to_return\n",
    "    speakers\n",
    "    \"\"\"\n",
    "    \n",
    "    response = client.chat.completions.create(\n",
    "        model = \"gpt-3.5-turbo\",\n",
    "        messages = [\n",
    "            {\"role\": \"system\", \"content\": \"You are a comment analysis tool.\"},\n",
    "            {\"role\": \"user\", \"content\": prompt}],\n",
    "        temperature = 0,\n",
    "        response_format={ \"type\": \"json_object\" }\n",
    "    )\n",
    "\n",
    "    response = response.choices[0].message.content\n",
    "    \n",
    "    return json.loads(response) \n"
   ]
  },
  {
   "cell_type": "code",
   "execution_count": null,
   "id": "d6d64ac0-ce42-46a2-b738-27ca1c257bc1",
   "metadata": {},
   "outputs": [],
   "source": [
    "comments[3]"
   ]
  },
  {
   "cell_type": "code",
   "execution_count": null,
   "id": "2d5f64b8-3fde-4304-b9a6-6d2e8fdfed7e",
   "metadata": {},
   "outputs": [],
   "source": [
    "response = analyze_comment(comments[3])\n",
    "print(response)\n",
    "\n"
   ]
  },
  {
   "cell_type": "code",
   "execution_count": null,
   "id": "3f202443-5018-4b92-80bd-6d5e97d06772",
   "metadata": {},
   "outputs": [],
   "source": [
    "type(response)"
   ]
  },
  {
   "cell_type": "code",
   "execution_count": null,
   "id": "e6e110c7-be18-419d-9743-6eaa235a429b",
   "metadata": {},
   "outputs": [],
   "source": [
    "response['sentiment']"
   ]
  },
  {
   "cell_type": "code",
   "execution_count": null,
   "id": "1e3c3d5b-f57b-49a4-977b-0b7528aa5342",
   "metadata": {},
   "outputs": [],
   "source": [
    "response_accum = []\n",
    "\n",
    "for comment in comments:\n",
    "    response = analyze_comment(comment)\n",
    "    response_accum.append(response)    "
   ]
  },
  {
   "cell_type": "code",
   "execution_count": null,
   "id": "040c86f0-3e50-4366-a0e8-c6d391520b30",
   "metadata": {},
   "outputs": [],
   "source": [
    "response_accum"
   ]
  },
  {
   "cell_type": "code",
   "execution_count": null,
   "id": "cfd0912c-6db2-4ecf-821d-195afb809f84",
   "metadata": {},
   "outputs": [],
   "source": [
    "df = pd.DataFrame(response_accum)\n",
    "df.to_csv('reponses_output.csv', index=False, header=True)"
   ]
  }
 ],
 "metadata": {
  "kernelspec": {
   "display_name": "Python 3 (ipykernel)",
   "language": "python",
   "name": "python3"
  },
  "language_info": {
   "codemirror_mode": {
    "name": "ipython",
    "version": 3
   },
   "file_extension": ".py",
   "mimetype": "text/x-python",
   "name": "python",
   "nbconvert_exporter": "python",
   "pygments_lexer": "ipython3",
   "version": "3.11.8"
  }
 },
 "nbformat": 4,
 "nbformat_minor": 5
}
