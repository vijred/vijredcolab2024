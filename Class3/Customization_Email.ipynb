{
 "cells": [
  {
   "cell_type": "markdown",
   "id": "a23ef375-0723-4cda-ad96-95b568bde25a",
   "metadata": {},
   "source": [
    "### Customized Email Based on Google Form Response ###"
   ]
  },
  {
   "cell_type": "markdown",
   "id": "efbefd39-66bd-4f0e-9a0d-de7a9e2c6cd8",
   "metadata": {},
   "source": [
    "Here, we will use the Google Sheets API to read in responses to a Google Form.  This project needs some setup on the Google Cloud Developer Console, which I outlined step by step in \"Reading Data From Google Sheets into Pandas.pdf\" posted on Blackboard.  Also needed are some Google CLoud libraries for Python.\n",
    "\n",
    "pywin32 is a library with many APIs for Microsoft APIS on Windows (I didn't research on MacOS, but I am sure there is a way).  This is used to send an email via Outlook directly frim Python script."
   ]
  },
  {
   "cell_type": "code",
   "execution_count": null,
   "id": "f0873946-02ec-4b99-9b5c-fcfec8a90209",
   "metadata": {},
   "outputs": [],
   "source": [
    "#!pip install google-cloud\n",
    "#!pip install google-auth\n",
    "#!pip install google-auth-oauthlib\n",
    "#!pip install google-api-python-client\n",
    "\n",
    "#!pip install pywin32"
   ]
  },
  {
   "cell_type": "code",
   "execution_count": 6,
   "id": "6683ef9e-f0db-4715-abac-1f51873036c2",
   "metadata": {},
   "outputs": [],
   "source": [
    "import pandas as pd\n",
    "import win32com.client"
   ]
  },
  {
   "cell_type": "markdown",
   "id": "ad83d6ec-494f-4ecf-9d81-c47bee4c5ee3",
   "metadata": {},
   "source": [
    "The block of code below will only run with API credentials.  This connects to the Google Form and reads the data into a pandas dataframe."
   ]
  },
  {
   "cell_type": "code",
   "execution_count": 43,
   "id": "5c0f8e9d-0d8b-4798-a37a-7fb46bc53ba6",
   "metadata": {},
   "outputs": [],
   "source": [
    "from google.oauth2 import service_account\n",
    "from googleapiclient.discovery import build\n",
    "\n",
    "# Replace the placeholders with your API credentials\n",
    "creds = service_account.Credentials.from_service_account_file(\n",
    "    'gba478-418200-977464f5bc6d.json',\n",
    "    scopes=['https://www.googleapis.com/auth/spreadsheets.readonly']\n",
    ")\n",
    "\n",
    "spreadsheet_id = \"12Sui5GzOWmakQmu036pVdWUaf9eqpmU08LRdPq6r8h0\"\n",
    "\n",
    "# Replace the placeholders with your spreadsheet ID and range\n",
    "service = build('sheets', 'v4', credentials=creds)\n",
    "sheet = service.spreadsheets()\n",
    "result = sheet.values().get(spreadsheetId= spreadsheet_id, range='Responses!A1:F10').execute()\n",
    "\n",
    "df = pd.DataFrame(result.get('values', []))\n",
    "\n",
    "row = 1\n",
    "text = df.iloc[row,1] +\" \"+ df.iloc[row, 2] +\" \"+ df.iloc[row,3]\n",
    "email = df.iloc[row,5]\n",
    "name = df.iloc[row,4]"
   ]
  },
  {
   "cell_type": "code",
   "execution_count": 44,
   "id": "46d295fd-b33d-4951-91e5-dbf44788f5ea",
   "metadata": {},
   "outputs": [
    {
     "data": {
      "text/plain": [
       "'New york city is the best. There are shows and people dressed up like my favorite characters. There are even trains underground. San Francisco is a beautiful city. I like to go to the wharf and see the sea lions. Then I climb the hills Florida is a great place to go in winter. They have manatees and alligators. Also oranges.'"
      ]
     },
     "execution_count": 44,
     "metadata": {},
     "output_type": "execute_result"
    }
   ],
   "source": [
    "text"
   ]
  },
  {
   "cell_type": "code",
   "execution_count": 45,
   "id": "65ff3d39-d164-4e75-8e59-9a6eb9f4245e",
   "metadata": {},
   "outputs": [
    {
     "data": {
      "text/plain": [
       "'Dmohr25@yahoo.com'"
      ]
     },
     "execution_count": 45,
     "metadata": {},
     "output_type": "execute_result"
    }
   ],
   "source": [
    "email"
   ]
  },
  {
   "cell_type": "code",
   "execution_count": 46,
   "id": "8f743eae-7105-42b5-911f-d7831daa734f",
   "metadata": {},
   "outputs": [],
   "source": [
    "import openai\n",
    "from dotenv import load_dotenv\n",
    "import os\n",
    "\n",
    "load_dotenv()\n",
    "os.environ[\"OPENAI_API_KEY\"] = os.getenv(\"openai_api_key\")\n",
    "\n",
    "client = openai.OpenAI()"
   ]
  },
  {
   "cell_type": "code",
   "execution_count": 47,
   "id": "b54cbf38-1505-4475-a20f-12700af3f4d7",
   "metadata": {},
   "outputs": [],
   "source": [
    "def get_output(prompt, model_input=\"gpt-3.5-turbo\", temperature_input = 0):\n",
    "    messages_from_prompt = [{\"role\": \"user\", \"content\": prompt}]\n",
    "    response = client.chat.completions.create(\n",
    "        model = model_input,\n",
    "        messages = messages_from_prompt,\n",
    "        temperature = temperature_input\n",
    "    )\n",
    "    return response.choices[0].message.content"
   ]
  },
  {
   "cell_type": "code",
   "execution_count": 48,
   "id": "3e325ba1-d4d4-4db9-81df-543ec0e47ab3",
   "metadata": {},
   "outputs": [],
   "source": [
    "prompt = f\"\"\"\n",
    "You are a friendly travel agent.  Use your client's description of their three favorite trips in the past, summarized in the text {text}, to suggest \\\n",
    "a next destination for them.  Be sure to mention the places they have already visited in your response, so they can see how the recommendation \\\n",
    "is similar to the recommendation you are making.\n",
    "\n",
    "Craft the response as the body of an email, addressed to the name {name}.  Sign off as \"AI TravelBot\"\n",
    "\"\"\"\n",
    "response = get_output(prompt)"
   ]
  },
  {
   "cell_type": "code",
   "execution_count": 49,
   "id": "45207ee2-7d3c-45b3-90cd-df0560b38995",
   "metadata": {},
   "outputs": [
    {
     "name": "stdout",
     "output_type": "stream",
     "text": [
      "Dear Derek Mohr,\n",
      "\n",
      "Thank you for sharing your favorite trips with me! It sounds like you have a great appreciation for unique experiences and natural beauty. Based on your love for New York City, San Francisco, and Florida, I have the perfect destination in mind for your next adventure.\n",
      "\n",
      "I recommend you consider visiting New Orleans, Louisiana. Like New York City, New Orleans is a vibrant city with a rich cultural scene. You can enjoy live shows, street performers, and even people dressed up in elaborate costumes during events like Mardi Gras. Similar to San Francisco, New Orleans is a beautiful city with historic architecture and charming neighborhoods. You can explore the French Quarter, visit the Garden District, and take a stroll along the Mississippi River. And just like Florida, New Orleans has its own unique wildlife and natural wonders. You can take a swamp tour to see alligators, visit the Audubon Zoo to see manatees, and enjoy delicious fresh oranges at the local markets.\n",
      "\n",
      "I believe you will love the mix of culture, history, and natural beauty that New Orleans has to offer. Let me know if you would like more information or assistance in planning your trip.\n",
      "\n",
      "Happy travels!\n",
      "\n",
      "AI TravelBot\n"
     ]
    }
   ],
   "source": [
    "print(response)"
   ]
  },
  {
   "cell_type": "markdown",
   "id": "bdea1e73-9294-43b8-82f6-d4b911bb21b6",
   "metadata": {},
   "source": [
    "THis is the block of code which connects Python to the Outlook application and sends the email."
   ]
  },
  {
   "cell_type": "code",
   "execution_count": 27,
   "id": "7a0133f7-71da-4167-a196-e860d36381c9",
   "metadata": {},
   "outputs": [],
   "source": [
    "ol = win32com.client.Dispatch(\"outlook.application\")\n",
    "olmailitem = 0x0 #size of the new email\n",
    "newmail = ol.CreateItem(olmailitem)\n",
    "newmail.Subject = 'Travel Recommendation from GBA478 AI Chatbot'\n",
    "newmail.To = email\n",
    "#newmail.CC='lizamohr1@gmail.com'\n",
    "newmail.Body = response\n",
    "\n",
    "# attach='C:\\\\Users\\\\admin\\\\Desktop\\\\Python\\\\Sample.xlsx'\n",
    "# newmail.Attachments.Add(attach)\n",
    "\n",
    "newmail.Send()"
   ]
  }
 ],
 "metadata": {
  "kernelspec": {
   "display_name": "Python 3 (ipykernel)",
   "language": "python",
   "name": "python3"
  },
  "language_info": {
   "codemirror_mode": {
    "name": "ipython",
    "version": 3
   },
   "file_extension": ".py",
   "mimetype": "text/x-python",
   "name": "python",
   "nbconvert_exporter": "python",
   "pygments_lexer": "ipython3",
   "version": "3.11.8"
  }
 },
 "nbformat": 4,
 "nbformat_minor": 5
}
