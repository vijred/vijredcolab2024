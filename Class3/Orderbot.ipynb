{
 "cells": [
  {
   "cell_type": "markdown",
   "id": "1950f35f-e54b-4bd4-8570-984ba7ec058a",
   "metadata": {},
   "source": [
    "## OrderBot Application ##   \n",
    "source: www.deeplearning.ai, adapted from short course on Prompt Engineering for Developers"
   ]
  },
  {
   "cell_type": "code",
   "execution_count": null,
   "id": "f3fad96b-c827-482e-b07e-9f54ca801ed1",
   "metadata": {},
   "outputs": [],
   "source": [
    "##!pip install panel"
   ]
  },
  {
   "cell_type": "code",
   "execution_count": null,
   "id": "734a8a0c-b992-4431-8f1c-14e9ea2b06ba",
   "metadata": {},
   "outputs": [],
   "source": [
    "import openai\n",
    "from dotenv import load_dotenv\n",
    "import os\n",
    "\n",
    "load_dotenv()\n",
    "os.environ[\"OPENAI_API_KEY\"] = os.getenv(\"openai_api_key\")\n",
    "\n",
    "client = openai.OpenAI()"
   ]
  },
  {
   "cell_type": "code",
   "execution_count": null,
   "id": "26d818c9-24a0-45b1-b8fb-3dad50b11700",
   "metadata": {},
   "outputs": [],
   "source": [
    "def get_response_from_messages(messages_input, model_input = \"gpt-3.5-turbo\", temperature_input = 0):\n",
    "    response = client.chat.completions.create(\n",
    "        model = model_input,\n",
    "        messages = messages_input,\n",
    "        temperature = temperature_input,\n",
    "    )\n",
    "\n",
    "    response = response.choices[0].message.content\n",
    "    return response "
   ]
  },
  {
   "cell_type": "code",
   "execution_count": null,
   "id": "b274d166-ef2c-4291-b849-d035df2fab3a",
   "metadata": {},
   "outputs": [],
   "source": [
    "def initialize_orderbot():\n",
    "    context = [ {'role':'system', 'content':\"\"\"\n",
    "    You are OrderBot, an automated service to collect orders for a pizza restaurant. \\\n",
    "    You first greet the customer, then collect the order. \\\n",
    "    You wait to collect the entire order, then summarize it and check for a final time if the customer wants to add anything else. \\\n",
    "    Make sure to clarify all options, extras and sizes to uniquely identify the item from the menu.\\\n",
    "    You respond in a short, very conversational friendly style. \\\n",
    "    When the user indicates that they have completed their order, create a summary of the previous food order, formatted as a table. \\\n",
    "    The columns should be 1) item 2) size 3) price , with a total price at the bottom.\n",
    "\n",
    "    The menu includes \\\n",
    "    pepperoni pizza  12.95, 10.00, 7.00 \\\n",
    "    cheese pizza   10.95, 9.25, 6.50 \\\n",
    "    eggplant pizza   11.95, 9.75, 6.75 \\\n",
    "    fries 4.50, 3.50 \\\n",
    "    greek salad 7.25 \\\n",
    "    Toppings: \\\n",
    "    extra cheese 2.00, \\\n",
    "    mushrooms 1.50 \\\n",
    "    sausage 3.00 \\\n",
    "    canadian bacon 3.50 \\\n",
    "    AI sauce 1.50 \\\n",
    "    peppers 1.00 \\\n",
    "    Drinks: \\\n",
    "    coke 3.00, 2.00, 1.00 \\\n",
    "    sprite 3.00, 2.00, 1.00 \\\n",
    "    bottled water 5.00 \\\n",
    "    \"\"\"} ]  \n",
    "\n",
    "    return context\n",
    "    "
   ]
  },
  {
   "cell_type": "code",
   "execution_count": null,
   "id": "d5ad7e12-5530-4ff4-9b46-bbc0d6b618a0",
   "metadata": {},
   "outputs": [],
   "source": [
    "def collect_messages(_):\n",
    "    prompt = inp.value_input\n",
    "    inp.value = ''\n",
    "    context.append({'role':'user', 'content':f\"{prompt}\"})\n",
    "    response = get_response_from_messages(context) \n",
    "    context.append({'role':'assistant', 'content':f\"{response}\"})\n",
    "    panels.append(\n",
    "        pn.Row('User:', pn.pane.Markdown(prompt, width=600)))\n",
    "    panels.append(\n",
    "        pn.Row('Assistant:', pn.pane.Markdown(response, width=600, styles={'background-color': '#F6F6F6'})))\n",
    " \n",
    "    return pn.Column(*panels)"
   ]
  },
  {
   "cell_type": "code",
   "execution_count": null,
   "id": "739cdc06-2b00-449a-9819-940a207128f5",
   "metadata": {},
   "outputs": [],
   "source": [
    "import panel as pn  # GUI\n",
    "pn.extension()\n",
    "\n",
    "panels = [] \n",
    "context = initialize_orderbot()\n",
    "\n",
    "inp = pn.widgets.TextInput(value=\"Hi\", placeholder='Enter text here…')\n",
    "button_conversation = pn.widgets.Button(name=\"Chat!\")\n",
    "\n",
    "interactive_conversation = pn.bind(collect_messages, button_conversation)\n",
    "\n",
    "dashboard = pn.Column(\n",
    "    inp,\n",
    "    pn.Row(button_conversation),\n",
    "    pn.panel(interactive_conversation, loading_indicator=True, height=300)\n",
    ")\n",
    "\n",
    "\n",
    "dashboard"
   ]
  },
  {
   "cell_type": "code",
   "execution_count": null,
   "id": "b07461f3-81b7-4612-86b8-c7a7b0bb0854",
   "metadata": {},
   "outputs": [],
   "source": [
    "context"
   ]
  }
 ],
 "metadata": {
  "kernelspec": {
   "display_name": "Python 3 (ipykernel)",
   "language": "python",
   "name": "python3"
  },
  "language_info": {
   "codemirror_mode": {
    "name": "ipython",
    "version": 3
   },
   "file_extension": ".py",
   "mimetype": "text/x-python",
   "name": "python",
   "nbconvert_exporter": "python",
   "pygments_lexer": "ipython3",
   "version": "3.11.8"
  }
 },
 "nbformat": 4,
 "nbformat_minor": 5
}
