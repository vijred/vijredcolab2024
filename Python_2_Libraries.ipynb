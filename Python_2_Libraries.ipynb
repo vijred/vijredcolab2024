{
 "cells": [
  {
   "cell_type": "markdown",
   "id": "a7c7dc04-29b3-450a-898e-e45642051c84",
   "metadata": {},
   "source": [
    "### Installing Libraries in Python"
   ]
  },
  {
   "cell_type": "markdown",
   "id": "c6fbe19a-0f2e-4b05-827d-a6591271fcf7",
   "metadata": {},
   "source": [
    "Libraries need to be installed before they can be imported.  On a local version of Python, libraries only need to be installed once.  If you are working on Google Colab, libraries will need to be installed every time you start a new session.   \n",
    "Once a library is installed, it needs to be imported with the \"import\" function.  Using an alias (such as \"sns\" in this example) gives the package a nickname (usually shorter) that can be used to refer to it throughout the program.   \n",
    "You can use from [library] import [X, Y, Z] to selectively import functions or classes from a library."
   ]
  },
  {
   "cell_type": "code",
   "execution_count": null,
   "id": "6a43d871-c187-45e3-afd6-e1ee313cf0b0",
   "metadata": {},
   "outputs": [],
   "source": [
    "!pip list"
   ]
  },
  {
   "cell_type": "code",
   "execution_count": null,
   "id": "61dc40e5-9a7a-4ba1-baf7-f2098f092f46",
   "metadata": {},
   "outputs": [],
   "source": [
    "!pip install seaborn"
   ]
  },
  {
   "cell_type": "code",
   "execution_count": null,
   "id": "ae7e7057-2542-499a-a17d-04712b8cf5f0",
   "metadata": {},
   "outputs": [],
   "source": [
    "import seaborn as sns"
   ]
  },
  {
   "cell_type": "code",
   "execution_count": null,
   "id": "a95e5122-0044-4d01-95a0-017f3e3950ba",
   "metadata": {},
   "outputs": [],
   "source": [
    "Sides = {\n",
    "\"Triangle\" : 3,\n",
    "\"Square\" : 4,\n",
    "\"Pentagon\" : 5,\n",
    "\"Hexagon\" : 6,\n",
    "\"Heptagon\" : 7,\n",
    "\"Octagon\" : 8,\n",
    "\"Nonagon\" : 9,\n",
    "\"Decagon\" : 10\n",
    "}"
   ]
  },
  {
   "cell_type": "code",
   "execution_count": null,
   "id": "eb4f81f8-2787-4aa9-a290-1585cb1b3052",
   "metadata": {},
   "outputs": [],
   "source": [
    "sns.barplot(y = Sides.keys(), x = Sides.values())"
   ]
  }
 ],
 "metadata": {
  "kernelspec": {
   "display_name": "Python 3 (ipykernel)",
   "language": "python",
   "name": "python3"
  },
  "language_info": {
   "codemirror_mode": {
    "name": "ipython",
    "version": 3
   },
   "file_extension": ".py",
   "mimetype": "text/x-python",
   "name": "python",
   "nbconvert_exporter": "python",
   "pygments_lexer": "ipython3",
   "version": "3.11.8"
  }
 },
 "nbformat": 4,
 "nbformat_minor": 5
}
